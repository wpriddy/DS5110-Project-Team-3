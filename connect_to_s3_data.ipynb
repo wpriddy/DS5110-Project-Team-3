{
 "cells": [
  {
   "cell_type": "code",
   "execution_count": 4,
   "metadata": {},
   "outputs": [],
   "source": [
    "# Sample Connection to S3 Bucket\n",
    "import boto3\n",
    "import pandas as pd\n",
    "\n",
    "# Create S3 session and bucket\n",
    "s3_session = boto3.Session().client(\"s3\")\n",
    "bucket = 'team-3-project-data'\n"
   ]
  },
  {
   "cell_type": "code",
   "execution_count": 6,
   "metadata": {},
   "outputs": [],
   "source": [
    "# Sample Read in Data From S3 \n",
    "model_data = pd.read_csv(s3_session.get_object(Bucket=bucket, Key='redshift-ingestion/model_data.csv')['Body'], low_memory=False)"
   ]
  },
  {
   "cell_type": "code",
   "execution_count": null,
   "metadata": {},
   "outputs": [],
   "source": []
  }
 ],
 "metadata": {
  "kernelspec": {
   "display_name": "base",
   "language": "python",
   "name": "python3"
  },
  "language_info": {
   "codemirror_mode": {
    "name": "ipython",
    "version": 3
   },
   "file_extension": ".py",
   "mimetype": "text/x-python",
   "name": "python",
   "nbconvert_exporter": "python",
   "pygments_lexer": "ipython3",
   "version": "3.10.13"
  }
 },
 "nbformat": 4,
 "nbformat_minor": 2
}
